{
 "cells": [
  {
   "cell_type": "code",
   "execution_count": 4,
   "metadata": {},
   "outputs": [],
   "source": [
    "import numpy as np\n",
    "import scipy.linalg as la"
   ]
  },
  {
   "cell_type": "code",
   "execution_count": 14,
   "metadata": {},
   "outputs": [
    {
     "name": "stdout",
     "output_type": "stream",
     "text": [
      "3.9894978426343606e-17\n",
      "0.25000000000000006\n",
      "-0.75\n",
      "0.5\n",
      "0.5\n",
      "-0.25000000000000006\n",
      "0.75\n",
      "-1.0\n",
      "0.75\n",
      "1.0\n",
      "1.0\n",
      "0.25\n",
      "-0.75\n",
      "0.5\n",
      "0.5\n",
      "0.7499999999999999\n"
     ]
    }
   ],
   "source": [
    "u = np.load(\"U.npy\")\n",
    "u = la.hadamard(16) @ u @ la.hadamard(16)/16\n",
    "for i in range(16):\n",
    "    for j in range(16):\n",
    "        if abs(u[i,j]) < 0.0000001:\n",
    "            u[i,j] = 0\n",
    "for i in range(16):\n",
    "    print(np.angle(u[i,i])/np.pi)"
   ]
  }
 ],
 "metadata": {
  "kernelspec": {
   "display_name": "Python 3",
   "language": "python",
   "name": "python3"
  },
  "language_info": {
   "codemirror_mode": {
    "name": "ipython",
    "version": 3
   },
   "file_extension": ".py",
   "mimetype": "text/x-python",
   "name": "python",
   "nbconvert_exporter": "python",
   "pygments_lexer": "ipython3",
   "version": "3.7.6"
  }
 },
 "nbformat": 4,
 "nbformat_minor": 4
}
