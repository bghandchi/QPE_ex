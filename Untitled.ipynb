{
 "cells": [
  {
   "cell_type": "code",
   "execution_count": 21,
   "metadata": {},
   "outputs": [],
   "source": [
    "import numpy as np\n",
    "import scipy.linalg as la"
   ]
  },
  {
   "cell_type": "code",
   "execution_count": 41,
   "metadata": {},
   "outputs": [
    {
     "name": "stdout",
     "output_type": "stream",
     "text": [
      "3.9894978426343606e-17\n",
      "0.25000000000000006\n",
      "-0.75\n",
      "0.5\n",
      "0.5\n",
      "-0.25000000000000006\n",
      "0.75\n",
      "-1.0\n",
      "0.75\n",
      "1.0\n",
      "1.0\n",
      "0.25\n",
      "-0.75\n",
      "0.5\n",
      "0.5\n",
      "0.7499999999999999\n",
      "hhhhhhhhhhhhhhhhhhhhhhhhhhhhhhh\n",
      "3.9894978426343606e-17\n",
      "7.067899292141155e-17\n",
      "7.067899292141156e-17\n",
      "-1.0\n",
      "8.033131794477431e-18\n",
      "1.0\n",
      "-1.0\n",
      "-1.0\n",
      "0.0\n",
      "4.5968954380527365e-17\n",
      "-1.0\n",
      "5.30092446910587e-17\n",
      "3.533949646070578e-17\n",
      "-1.0\n",
      "7.55105647031486e-17\n",
      "1.76697482303529e-17\n"
     ]
    }
   ],
   "source": [
    "u = np.load(\"U.npy\")\n",
    "u = la.hadamard(16) @ u @ la.hadamard(16)/16\n",
    "for i in range(16):\n",
    "    for j in range(16):\n",
    "        if abs(u[i,j]) < 0.0000001:\n",
    "            u[i,j] = 0\n",
    "for i in range(16):\n",
    "    print(np.angle(u[i,i])/np.pi)\n",
    "    \n",
    "r1 = np.matrix([[1,0],[0, np.exp(-1j*np.pi/4)]])\n",
    "r2 = np.matrix([[1,0],[0, np.exp(-1j*5*np.pi/4)]])\n",
    "r3 = np.matrix([[1,0],[0, np.exp(-1j*np.pi/2)]])\n",
    "r4 = np.matrix([[1,0],[0, np.exp(-1j*3*np.pi/4)]])\n",
    "\n",
    "rots = np.kron(r2, r1)\n",
    "rots = np.kron(r3, rots)\n",
    "rots = np.kron(r4, rots)\n",
    "#rots = np.kron(np.identity(8), r1)\n",
    "u = rots @ u\n",
    "print(\"hhhhhhhhhhhhhhhhhhhhhhhhhhhhhhh\")\n",
    "for i in range(16):\n",
    "    print(np.angle(u[i,i])/np.pi)"
   ]
  }
 ],
 "metadata": {
  "kernelspec": {
   "display_name": "Python 3",
   "language": "python",
   "name": "python3"
  },
  "language_info": {
   "codemirror_mode": {
    "name": "ipython",
    "version": 3
   },
   "file_extension": ".py",
   "mimetype": "text/x-python",
   "name": "python",
   "nbconvert_exporter": "python",
   "pygments_lexer": "ipython3",
   "version": "3.7.6"
  }
 },
 "nbformat": 4,
 "nbformat_minor": 4
}
